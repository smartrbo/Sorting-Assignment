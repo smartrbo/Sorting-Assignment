{
  "nbformat": 4,
  "nbformat_minor": 0,
  "metadata": {
    "colab": {
      "provenance": []
    },
    "kernelspec": {
      "name": "python3",
      "display_name": "Python 3"
    },
    "language_info": {
      "name": "python"
    }
  },
  "cells": [
    {
      "cell_type": "markdown",
      "source": [
        "Problem 1.Given an array of n numbers, give an algorithm which gives the element appearing maximum\n",
        "number of times?"
      ],
      "metadata": {
        "id": "-b_107rS73Tz"
      }
    },
    {
      "cell_type": "code",
      "source": [
        "def find_max_frequency_element(arr):\n",
        "    frequency_map = {}\n",
        "\n",
        "    # Count occurrences of each element\n",
        "    for num in arr:\n",
        "        frequency_map[num] = frequency_map.get(num, 0) + 1\n",
        "\n",
        "    # Find element with maximum occurrences\n",
        "    max_element = None\n",
        "    max_count = 0\n",
        "    for key, value in frequency_map.items():\n",
        "        if value > max_count:\n",
        "            max_element = key\n",
        "            max_count = value\n",
        "\n",
        "    return max_element, max_count\n",
        "\n",
        "# Example usage\n",
        "arr = [1, 3, 2, 3, 4, 1, 3, 1, 1, 2, 3]\n",
        "result = find_max_frequency_element(arr)\n",
        "print(f\"Element with max frequency: {result[0]}, Count: {result[1]}\")\n"
      ],
      "metadata": {
        "colab": {
          "base_uri": "https://localhost:8080/"
        },
        "id": "Dx5N4Zyb759t",
        "outputId": "ec2ec4b6-f5fa-4a45-e2a4-e68c1c9b476c"
      },
      "execution_count": 1,
      "outputs": [
        {
          "output_type": "stream",
          "name": "stdout",
          "text": [
            "Element with max frequency: 1, Count: 4\n"
          ]
        }
      ]
    },
    {
      "cell_type": "markdown",
      "source": [
        "Problem 2 : We are given a list of n-1 integers and these integers are in the range of 1 to n . There are no\n",
        "duplicates in the list. One of the integers is missing in the list. Give an algorithm to find that element Ex:\n",
        "[1,2,4,6,3,7,8] 5 is the missing num."
      ],
      "metadata": {
        "id": "vHGHldvF8GAi"
      }
    },
    {
      "cell_type": "code",
      "source": [
        "def find_missing_number_xor(arr, n):\n",
        "    xor_all = 0\n",
        "    xor_arr = 0\n",
        "\n",
        "    # XOR all numbers from 1 to n\n",
        "    for i in range(1, n + 1):\n",
        "        xor_all ^= i\n",
        "\n",
        "    # XOR all elements in the array\n",
        "    for num in arr:\n",
        "        xor_arr ^= num\n",
        "\n",
        "    # The missing number is the XOR difference\n",
        "    return xor_all ^ xor_arr\n",
        "\n",
        "# Example usage\n",
        "arr = [1, 2, 4, 6, 3, 7, 8]\n",
        "n = len(arr) + 1  # Since one number is missing\n",
        "print(\"Missing number:\", find_missing_number_xor(arr, n))\n"
      ],
      "metadata": {
        "colab": {
          "base_uri": "https://localhost:8080/"
        },
        "id": "90_gs_k88MiW",
        "outputId": "b2fb517d-fbd9-429a-d0a0-78a9b9104492"
      },
      "execution_count": 2,
      "outputs": [
        {
          "output_type": "stream",
          "name": "stdout",
          "text": [
            "Missing number: 5\n"
          ]
        }
      ]
    },
    {
      "cell_type": "markdown",
      "source": [
        "Problem 3 : Given an array of n positive numbers. All numbers occurs even number of times except 1 which\n",
        "occurs odd number of times. Find that number in O(n) time and O(1) space. Ex: [1,2,3,2,3,1,3]. 3 is repeats odd\n",
        "times."
      ],
      "metadata": {
        "id": "uyC4td298NRP"
      }
    },
    {
      "cell_type": "code",
      "source": [
        "def find_odd_occurrence(arr):\n",
        "    result = 0\n",
        "    for num in arr:\n",
        "        result ^= num  # XOR all elements\n",
        "    return result\n",
        "\n",
        "# Example usage\n",
        "arr = [1, 2, 3, 2, 3, 1, 3]\n",
        "print(\"Number occurring odd times:\", find_odd_occurrence(arr))\n"
      ],
      "metadata": {
        "colab": {
          "base_uri": "https://localhost:8080/"
        },
        "id": "GOwpvhII8PWp",
        "outputId": "12cd2b34-dcab-45b1-e135-36897d6a2fb6"
      },
      "execution_count": 3,
      "outputs": [
        {
          "output_type": "stream",
          "name": "stdout",
          "text": [
            "Number occurring odd times: 3\n"
          ]
        }
      ]
    },
    {
      "cell_type": "markdown",
      "source": [
        "Problem 4 : Given an array of n elements. Find two elements in the array such that their sum is equal to given\n",
        "element K."
      ],
      "metadata": {
        "id": "6ibM_IgJ8RZB"
      }
    },
    {
      "cell_type": "code",
      "source": [
        "def find_pair_with_sum(arr, K):\n",
        "    num_set = set()\n",
        "\n",
        "    for num in arr:\n",
        "        complement = K - num\n",
        "        if complement in num_set:\n",
        "            return num, complement\n",
        "        num_set.add(num)\n",
        "\n",
        "    return None  # No pair found\n",
        "\n",
        "# Example usage\n",
        "arr = [1, 4, 6, 8, 10, 45]\n",
        "K = 16\n",
        "result = find_pair_with_sum(arr, K)\n",
        "print(\"Pair with sum\", K, \":\", result)\n"
      ],
      "metadata": {
        "colab": {
          "base_uri": "https://localhost:8080/"
        },
        "id": "AOBmfHfy8SBl",
        "outputId": "01135877-3e6f-407f-c6a8-339d560bd612"
      },
      "execution_count": 4,
      "outputs": [
        {
          "output_type": "stream",
          "name": "stdout",
          "text": [
            "Pair with sum 16 : (10, 6)\n"
          ]
        }
      ]
    },
    {
      "cell_type": "markdown",
      "source": [],
      "metadata": {
        "id": "r58XVdbD8Spr"
      }
    },
    {
      "cell_type": "markdown",
      "source": [
        "Problem 5 : Given an array of both positive and negative numbers, find two numbers such that their sum is\n",
        "closest to 0. Ex: [ 1 ,60 ,-10, 70, -80,85]. Ans : -80,85."
      ],
      "metadata": {
        "id": "OEo40ukc8UBV"
      }
    },
    {
      "cell_type": "code",
      "source": [
        "def find_closest_to_zero_pair(arr):\n",
        "    arr.sort()  # Sort the array (O(n log n))\n",
        "    left, right = 0, len(arr) - 1\n",
        "    min_sum = float('inf')\n",
        "    closest_pair = (None, None)\n",
        "\n",
        "    while left < right:\n",
        "        curr_sum = arr[left] + arr[right]\n",
        "\n",
        "        # Update closest pair if current sum is closer to zero\n",
        "        if abs(curr_sum) < abs(min_sum):\n",
        "            min_sum = curr_sum\n",
        "            closest_pair = (arr[left], arr[right])\n",
        "\n",
        "        # Move pointers\n",
        "        if curr_sum < 0:\n",
        "            left += 1\n",
        "        else:\n",
        "            right -= 1\n",
        "\n",
        "    return closest_pair\n",
        "\n",
        "# Example usage\n",
        "arr = [1, 60, -10, 70, -80, 85]\n",
        "result = find_closest_to_zero_pair(arr)\n",
        "print(\"Pair closest to zero:\", result)\n"
      ],
      "metadata": {
        "colab": {
          "base_uri": "https://localhost:8080/"
        },
        "id": "SFMIwaXq8UmB",
        "outputId": "1cdea465-5c8c-4ee6-ddfd-199c5be54203"
      },
      "execution_count": 5,
      "outputs": [
        {
          "output_type": "stream",
          "name": "stdout",
          "text": [
            "Pair closest to zero: (-80, 85)\n"
          ]
        }
      ]
    },
    {
      "cell_type": "markdown",
      "source": [
        "Problem 6 : Given an array of n elements . Find three elements such that their sum is equal to the given\n",
        "number."
      ],
      "metadata": {
        "id": "LLVdYH5-8WE-"
      }
    },
    {
      "cell_type": "code",
      "source": [
        "def find_three_numbers_with_sum(arr, K):\n",
        "    arr.sort()  # Sort the array (O(n log n))\n",
        "    n = len(arr)\n",
        "\n",
        "    for i in range(n - 2):  # Fix one element\n",
        "        left, right = i + 1, n - 1  # Two-pointer approach\n",
        "\n",
        "        while left < right:\n",
        "            curr_sum = arr[i] + arr[left] + arr[right]\n",
        "\n",
        "            if curr_sum == K:\n",
        "                return arr[i], arr[left], arr[right]\n",
        "\n",
        "            if curr_sum < K:\n",
        "                left += 1  # Increase sum by moving left forward\n",
        "            else:\n",
        "                right -= 1  # Decrease sum by moving right backward\n",
        "\n",
        "    return None  # No triplet found\n",
        "\n",
        "# Example usage\n",
        "arr = [1, 4, 6, 8, 10, 45]\n",
        "K = 22\n",
        "result = find_three_numbers_with_sum(arr, K)\n",
        "print(\"Triplet with sum\", K, \":\", result)\n"
      ],
      "metadata": {
        "id": "cIkG14nr8Wsx"
      },
      "execution_count": null,
      "outputs": []
    },
    {
      "cell_type": "markdown",
      "source": [
        "Problem 7 : Given an array of n elements . Find three elements i, j, k in the array such that\n",
        "i * i + j * j = k*k."
      ],
      "metadata": {
        "id": "VNyRdMnF8XSi"
      }
    },
    {
      "cell_type": "code",
      "source": [
        "def find_pythagorean_triplet(arr):\n",
        "    # Square all elements\n",
        "    squared = [x * x for x in arr]\n",
        "    squared.sort()  # Sorting the squared values (O(n log n))\n",
        "\n",
        "    n = len(squared)\n",
        "\n",
        "    # Fix the largest element as k^2 and find i^2 + j^2 = k^2\n",
        "    for k in range(n - 1, 1, -1):  # Start from the largest\n",
        "        left, right = 0, k - 1  # Two-pointer approach\n",
        "\n",
        "        while left < right:\n",
        "            if squared[left] + squared[right] == squared[k]:\n",
        "                return int(squared[left]**0.5), int(squared[right]**0.5), int(squared[k]**0.5)\n",
        "\n",
        "            if squared[left] + squared[right] < squared[k]:\n",
        "                left += 1  # Increase sum\n",
        "            else:\n",
        "                right -= 1  # Decrease sum\n",
        "\n",
        "    return None  # No triplet found\n",
        "\n",
        "# Example usage\n",
        "arr = [3, 1, 4, 6, 5]\n",
        "result = find_pythagorean_triplet(arr)\n",
        "print(\"Pythagorean triplet:\", result)\n"
      ],
      "metadata": {
        "colab": {
          "base_uri": "https://localhost:8080/"
        },
        "id": "awMbcvhY8ZGS",
        "outputId": "44ec1ed9-5750-4da5-8b8b-c7e1b8d78578"
      },
      "execution_count": 7,
      "outputs": [
        {
          "output_type": "stream",
          "name": "stdout",
          "text": [
            "Pythagorean triplet: (3, 4, 5)\n"
          ]
        }
      ]
    },
    {
      "cell_type": "markdown",
      "source": [
        "Problem 8 : An element is a majority if it appears more than n/2 times. Give an algorithm takes an array of n\n",
        "element as argument and identifies a majority (if it exists)."
      ],
      "metadata": {
        "id": "xmg2hUNA8agi"
      }
    },
    {
      "cell_type": "code",
      "source": [
        "def find_majority_element(arr):\n",
        "    # Phase 1: Find Candidate\n",
        "    candidate, count = None, 0\n",
        "\n",
        "    for num in arr:\n",
        "        if count == 0:\n",
        "            candidate = num\n",
        "        count += 1 if num == candidate else -1\n",
        "\n",
        "    # Phase 2: Verify Candidate\n",
        "    count = sum(1 for num in arr if num == candidate)\n",
        "    if count > len(arr) // 2:\n",
        "        return candidate\n",
        "\n",
        "    return None  # No majority element\n",
        "\n",
        "# Example usage\n",
        "arr = [3, 3, 4, 2, 4, 4, 2, 4, 4]\n",
        "result = find_majority_element(arr)\n",
        "print(\"Majority element:\", result)\n"
      ],
      "metadata": {
        "colab": {
          "base_uri": "https://localhost:8080/"
        },
        "id": "Vov_hKRn8bN0",
        "outputId": "e013fbc9-a8e1-4b6b-c526-ef8511e4f7ab"
      },
      "execution_count": 8,
      "outputs": [
        {
          "output_type": "stream",
          "name": "stdout",
          "text": [
            "Majority element: 4\n"
          ]
        }
      ]
    },
    {
      "cell_type": "markdown",
      "source": [
        "Problem 9 : Given n × n matrix, and in each row all 1’s are followed by 0’s. Find the row with the maximum\n",
        "number of 0’s."
      ],
      "metadata": {
        "id": "7XDUT9Am8cTC"
      }
    },
    {
      "cell_type": "code",
      "source": [
        "def first_zero_index(row):\n",
        "    \"\"\"Binary search to find the first occurrence of 0 in a row.\"\"\"\n",
        "    left, right = 0, len(row) - 1\n",
        "    while left <= right:\n",
        "        mid = (left + right) // 2\n",
        "        if row[mid] == 0:\n",
        "            right = mid - 1  # Search in the left half\n",
        "        else:\n",
        "            left = mid + 1  # Search in the right half\n",
        "    return left  # Position of first 0\n",
        "\n",
        "def row_with_max_zeros(matrix):\n",
        "    n = len(matrix)\n",
        "    max_zeros = 0\n",
        "    row_index = -1\n",
        "\n",
        "    for i in range(n):\n",
        "        first_zero = first_zero_index(matrix[i])\n",
        "        num_zeros = n - first_zero  # Number of 0's in this row\n",
        "\n",
        "        if num_zeros > max_zeros:\n",
        "            max_zeros = num_zeros\n",
        "            row_index = i\n",
        "\n",
        "    return row_index\n",
        "\n",
        "# Example usage\n",
        "matrix = [\n",
        "    [1, 1, 0, 0],  # 2 zeros\n",
        "    [1, 0, 0, 0],  # 3 zeros\n",
        "    [1, 1, 1, 0],  # 1 zero\n",
        "    [0, 0, 0, 0]   # 4 zeros\n",
        "]\n",
        "\n",
        "result = row_with_max_zeros(matrix)\n",
        "print(\"Row with maximum zeros:\", result)\n"
      ],
      "metadata": {
        "id": "2KqePFo78c8r"
      },
      "execution_count": null,
      "outputs": []
    },
    {
      "cell_type": "markdown",
      "source": [
        "Problem 10 : Sort an array of 0’s, 1’s and 2’s [or R’s, G’s and B’s]: Given an array A[] consisting of 0’s, 1’s and\n",
        "2’s, give an algorithm for sorting A[].The algorithm should put all 0’s first, then all 1’s and finally all 2’s at the\n",
        "end. Example Input = {0,1,1,0,1,2,1,2,0,0,0,1}, Output = {0,0,0,0,0,1,1,1,1,1,2,2}"
      ],
      "metadata": {
        "id": "9PWysev78ept"
      }
    },
    {
      "cell_type": "code",
      "source": [
        "def sort_colors(arr):\n",
        "    low, mid, high = 0, 0, len(arr) - 1\n",
        "\n",
        "    while mid <= high:\n",
        "        if arr[mid] == 0:\n",
        "            arr[low], arr[mid] = arr[mid], arr[low]  # Swap\n",
        "            low += 1\n",
        "            mid += 1\n",
        "        elif arr[mid] == 1:\n",
        "            mid += 1  # Just move mid forward\n",
        "        else:  # arr[mid] == 2\n",
        "            arr[mid], arr[high] = arr[high], arr[mid]  # Swap\n",
        "            high -= 1\n",
        "\n",
        "# Example usage\n",
        "arr = [0, 1, 1, 0, 1, 2, 1, 2, 0, 0, 0, 1]\n",
        "sort_colors(arr)\n",
        "print(\"Sorted array:\", arr)\n"
      ],
      "metadata": {
        "colab": {
          "base_uri": "https://localhost:8080/"
        },
        "id": "R9ehtZP68fO2",
        "outputId": "56ba5710-dd6e-44b7-b9f9-25e957fae327"
      },
      "execution_count": 10,
      "outputs": [
        {
          "output_type": "stream",
          "name": "stdout",
          "text": [
            "Sorted array: [0, 0, 0, 0, 0, 1, 1, 1, 1, 1, 2, 2]\n"
          ]
        }
      ]
    }
  ]
}